{
 "cells": [
  {
   "cell_type": "code",
   "execution_count": 1,
   "metadata": {
    "execution": {
     "iopub.execute_input": "2024-03-20T15:45:05.173823Z",
     "iopub.status.busy": "2024-03-20T15:45:05.173012Z",
     "iopub.status.idle": "2024-03-20T15:45:06.318529Z",
     "shell.execute_reply": "2024-03-20T15:45:06.319189Z",
     "shell.execute_reply.started": "2024-03-19T15:31:11.849230Z"
    },
    "papermill": {
     "duration": 1.193472,
     "end_time": "2024-03-20T15:45:06.319594",
     "exception": false,
     "start_time": "2024-03-20T15:45:05.126122",
     "status": "completed"
    },
    "tags": []
   },
   "outputs": [],
   "source": [
    "![ -d /kaggle/input/release-2024-v3/augeropendata ] && [ ! -d augeropendata ] && ln -s /kaggle/input/release-2024-v3/augeropendata augeropendata  # kaggle specific linking dataset to augeropendata directory"
   ]
  },
  {
   "attachments": {
    "PierreAugerObservatoryLogo.jpg": {
     "image/jpeg": "[encoded data removed]"
    }
   },
   "cell_type": "markdown",
   "metadata": {
    "papermill": {
     "duration": 0.032037,
     "end_time": "2024-03-20T15:45:06.382297",
     "exception": false,
     "start_time": "2024-03-20T15:45:06.350260",
     "status": "completed"
    },
    "tags": []
   },
   "source": [
    "![PierreAugerObservatoryLogo.jpg](attachment:PierreAugerObservatoryLogo.jpg)\n",
    "# Energy Calibration\n",
    "\n",
    "<i>Notebook released together with the Pierre Auger Observatory Open Data release (<a href=\"https://doi.org/10.5281/zenodo.10488964\">DOI 10.5281/zenodo.10488964</a>). More information at the <a href=\"https://www.auger.org/opendata/\">Auger open data website</a>.</i>\n",
    "\n",
    "The energy estimation for the vertical (zenith < 60 degrees) events recorded by the Pierre Auger Surface Detector (SD-1500 array) relies on the calibration of its energy estimator, the shower size S(1000), i.e. the signal at 1000 m from the shower impact at the ground, or shower core, in the plane of the shower front. To calibrate the shower size we profit from the measurement of the shower calorimetric energy performed by the Fluorescence Detector (FD) for a subsample of high quality events simultaneously recorded by both the SD and FD, the so-called golden hybrid events.\n",
    "\n",
    "NOTE: this is a **simplified version** of the energy calibration applied to data from the Pierre Auger Observatory. For details on the full energy calibration procedure please refer to the following publications:\n",
    "\n",
    "[1] Pierre Auger Collaboration [A. Aab et al.], \"A measurement of the cosmic ray energy spectrum above 2.5$\\cdot$10$^{18}$ eV using the Pierre Auger Observatory\", Phys. Rev. D. 102 (2020) 062005. DOI: https://doi.org/10.1103/PhysRevD.102.062005 arXiv: https://arxiv.org/abs/2008.06486\n",
    "\n",
    "[2] Pierre Auger Collaboration [A. Aab et al.], \"Data-driven estimation of the invisible energy of cosmic ray showers with the Pierre Auger Observatory\", Phys. Rev. D 100 (2019) 082003. DOI: https://doi.org/10.1103/PhysRevD.100.082003 arXiv: https://arxiv.org/abs/1901.08040\n",
    "\n",
    "[3] Pierre Auger Collaboration [A. Aab et al.], \"Impact of atmospheric effects on the energy reconstruction of air showers observed by the surface detectors of the Pierre Auger Observatory\", JINST 12 (2017) P02006. DOI: https://doi.org/10.1088/1748-0221/12/02/P02006 arXiv: https://arxiv.org/abs/1702.02835 \n",
    "\n",
    "\n",
    "[4] Pierre Auger Collaboration [P. Abreu et al.], \"The effect of the geomagnetic field on cosmic ray energy estimates and large scale anisotropy searches on data from the Pierre Auger Observatory\", J. Cosmol. Astropart. Phys. 11 (2011) 022. DOI: https://doi.org/10.1088/1475-7516/2011/11/022 arXiv: https://arxiv.org/abs/1111.7122\n",
    "\n"
   ]
  },
  {
   "cell_type": "code",
   "execution_count": 2,
   "metadata": {
    "execution": {
     "iopub.execute_input": "2024-03-20T15:45:06.454389Z",
     "iopub.status.busy": "2024-03-20T15:45:06.453139Z",
     "iopub.status.idle": "2024-03-20T15:45:07.376738Z",
     "shell.execute_reply": "2024-03-20T15:45:07.375917Z",
     "shell.execute_reply.started": "2024-03-19T15:31:12.179301Z"
    },
    "papermill": {
     "duration": 0.962733,
     "end_time": "2024-03-20T15:45:07.376943",
     "exception": false,
     "start_time": "2024-03-20T15:45:06.414210",
     "status": "completed"
    },
    "tags": []
   },
   "outputs": [],
   "source": [
    "# Data analysis tools\n",
    "import pandas as pd\n",
    "import numpy as np\n",
    "from numpy import radians as rad\n",
    "import math \n",
    "\n",
    "# Fitting and Plotting\n",
    "import scipy.stats\n",
    "from scipy.stats import norm\n",
    "from scipy.optimize import curve_fit \n",
    "from scipy.optimize import minimize\n",
    "import matplotlib.pyplot as plt\n",
    "%matplotlib inline\n"
   ]
  },
  {
   "cell_type": "code",
   "execution_count": 3,
   "metadata": {
    "execution": {
     "iopub.execute_input": "2024-03-20T15:45:07.443197Z",
     "iopub.status.busy": "2024-03-20T15:45:07.442252Z",
     "iopub.status.idle": "2024-03-20T15:45:07.447418Z",
     "shell.execute_reply": "2024-03-20T15:45:07.448337Z",
     "shell.execute_reply.started": "2024-03-19T15:31:12.910229Z"
    },
    "papermill": {
     "duration": 0.041453,
     "end_time": "2024-03-20T15:45:07.448607",
     "exception": false,
     "start_time": "2024-03-20T15:45:07.407154",
     "status": "completed"
    },
    "tags": []
   },
   "outputs": [],
   "source": [
    "# Default values for plots\n",
    "#plt.rcParams[\"figure.figsize\"] = [12, 9] # figure width and height\n",
    "plt.rcParams[\"figure.figsize\"] = [14, 9] # figure width and height\n",
    "plt.rcParams[\"font.size\"] = 20\n"
   ]
  },
  {
   "cell_type": "code",
   "execution_count": 4,
   "metadata": {
    "execution": {
     "iopub.execute_input": "2024-03-20T15:45:07.514658Z",
     "iopub.status.busy": "2024-03-20T15:45:07.513893Z",
     "iopub.status.idle": "2024-03-20T15:45:07.518020Z",
     "shell.execute_reply": "2024-03-20T15:45:07.518722Z",
     "shell.execute_reply.started": "2024-03-19T15:31:12.917377Z"
    },
    "papermill": {
     "duration": 0.038875,
     "end_time": "2024-03-20T15:45:07.518953",
     "exception": false,
     "start_time": "2024-03-20T15:45:07.480078",
     "status": "completed"
    },
    "tags": []
   },
   "outputs": [],
   "source": [
    "# Jupyter/ IPython formatting\n",
    "from IPython.display import Math, Latex, display"
   ]
  },
  {
   "cell_type": "code",
   "execution_count": 5,
   "metadata": {
    "execution": {
     "iopub.execute_input": "2024-03-20T15:45:07.584579Z",
     "iopub.status.busy": "2024-03-20T15:45:07.583764Z",
     "iopub.status.idle": "2024-03-20T15:45:07.592851Z",
     "shell.execute_reply": "2024-03-20T15:45:07.592085Z",
     "shell.execute_reply.started": "2024-03-19T15:31:12.934258Z"
    },
    "papermill": {
     "duration": 0.043321,
     "end_time": "2024-03-20T15:45:07.593089",
     "exception": false,
     "start_time": "2024-03-20T15:45:07.549768",
     "status": "completed"
    },
    "tags": []
   },
   "outputs": [],
   "source": [
    "# Data loading, encapsulated to make it less installation and OS dependant\n",
    "import os.path\n",
    "from zipfile import ZipFile\n",
    "def AugerLoad(fdir,file):\n",
    "    \"\"\"\n",
    "    Loads a file from the auger open data release. Can be either in the local directory,\n",
    "    in the parent directory or in the augeropendata directory.\n",
    "    File is identified by it directory *fdir* and filename *file* and can be found in the directory\n",
    "    or in a zip file.\n",
    "    \"\"\"\n",
    "    for loc in [\".\",\"..\",\"augeropendata\"]:\n",
    "        fname=os.path.join(loc,fdir,file)\n",
    "        if os.path.isfile(fname):\n",
    "            return open(fname)\n",
    "        zname=os.path.join(loc,fdir+\".zip\")\n",
    "        if os.path.isfile(zname):\n",
    "            with ZipFile(zname) as myzip:\n",
    "                return myzip.open(os.path.join(fdir,file))\n"
   ]
  },
  {
   "cell_type": "markdown",
   "metadata": {
    "papermill": {
     "duration": 0.031933,
     "end_time": "2024-03-20T15:45:07.655531",
     "exception": false,
     "start_time": "2024-03-20T15:45:07.623598",
     "status": "completed"
    },
    "tags": []
   },
   "source": [
    "## Calibration of the SD-1500 array with golden hybrid data\n",
    "\n",
    "The so-called *golden hybrid* events are simultaneously observed and independently reconstructed by the Fluorescence Detector (FD) and the Surface Detector (SD). Data collected by the SD-1500 array are identified by the flag `sd1500` = 1. The total energy as measured with the FD, `fd_totalEnergy`, and the SD shower size estimator S$_{38}$, `sd_s38`, are given in the released dataset file. The identifying flag for this analysis is `fd_hdCalibEye` == 1\n",
    "\n",
    "The hybrid events are selected to guarantee a precise estimation of the FD energies and to minimize primary mass dependent biases due to the field of view of the FD telescopes, see \\[1\\]. The selection criteria are summarized as follows:\n",
    "- stability of data taking and atmospheric data;\n",
    "- quality of the shower geometry and profile measurement;\n",
    "- fiducial volume cuts.\n",
    "\n",
    "The calibration is performed by selecting events with E_FD > 3 x $10^{18}$ eV to guarantee a nearly 100% trigger efficiency of the SD-1500 array. Note that for the definition of the p.d.f of the likelihood fit we use events with energy above E > 2.5 x $10^{18}$ eV."
   ]
  },
  {
   "cell_type": "code",
   "execution_count": 6,
   "metadata": {
    "execution": {
     "iopub.execute_input": "2024-03-20T15:45:07.722380Z",
     "iopub.status.busy": "2024-03-20T15:45:07.721246Z",
     "iopub.status.idle": "2024-03-20T15:45:08.071423Z",
     "shell.execute_reply": "2024-03-20T15:45:08.070575Z",
     "shell.execute_reply.started": "2024-03-19T15:31:12.944138Z"
    },
    "papermill": {
     "duration": 0.383837,
     "end_time": "2024-03-20T15:45:08.071616",
     "exception": false,
     "start_time": "2024-03-20T15:45:07.687779",
     "status": "completed"
    },
    "tags": []
   },
   "outputs": [],
   "source": [
    "hd = pd.read_csv(AugerLoad('summary','dataSummarySD1500.csv'))"
   ]
  },
  {
   "cell_type": "markdown",
   "metadata": {
    "papermill": {
     "duration": 0.029833,
     "end_time": "2024-03-20T15:45:08.132358",
     "exception": false,
     "start_time": "2024-03-20T15:45:08.102525",
     "status": "completed"
    },
    "tags": []
   },
   "source": [
    "Select events for this analysis:\n",
    "- Has `fd_hdCalibEye` set\n",
    "- Fluorescence detector energy (`fd_totalEnergy`) above $3\\,\\mathrm{EeV}$ for fit and plots\n",
    "- Fluorescence detector energy (`fd_totalEnergy`) above $2.5\\,\\mathrm{EeV}$ for p.d.f definition\n",
    "\n",
    "Also prepare a dataframe with unique events, i.e., with each `id` present only once. This dataframe gets indexed by event `id` to allow to merge with data like averages from multi-eye events."
   ]
  },
  {
   "cell_type": "code",
   "execution_count": 7,
   "metadata": {
    "execution": {
     "iopub.execute_input": "2024-03-20T15:45:08.197391Z",
     "iopub.status.busy": "2024-03-20T15:45:08.196285Z",
     "iopub.status.idle": "2024-03-20T15:45:08.254189Z",
     "shell.execute_reply": "2024-03-20T15:45:08.253536Z",
     "shell.execute_reply.started": "2024-03-19T15:31:13.239137Z"
    },
    "papermill": {
     "duration": 0.091425,
     "end_time": "2024-03-20T15:45:08.254375",
     "exception": false,
     "start_time": "2024-03-20T15:45:08.162950",
     "status": "completed"
    },
    "tags": []
   },
   "outputs": [
    {
     "data": {
      "text/latex": [
       "Read 434 calibration events of which 414 unique have an energy above $2.5~ \\times 10^{18}\\,\\mathrm{eV}$.\n",
       "    The total number of FD events (counting multi-eye events as multiple events) is 434."
      ],
      "text/plain": [
       "<IPython.core.display.Latex object>"
      ]
     },
     "metadata": {},
     "output_type": "display_data"
    }
   ],
   "source": [
    "## weighted average in multi-eye events to be done before the energy cut \n",
    "## the energy cut will be done later on weighted average\n",
    "fd_calib = hd[(hd.fd_hdCalibEye == 1)].copy() # copy so we can add columns later\n",
    "\n",
    "fd_grouped = fd_calib.groupby('id')\n",
    "fd_unique = fd_calib.drop_duplicates('id').set_index('id')\n",
    "\n",
    "n_events = len(fd_calib)\n",
    "n_unique = len(fd_unique)\n",
    "\n",
    "display(Latex(f'''Read {n_events} calibration events of which {n_unique} unique have an energy above $2.5~ \\\\times 10^{{18}}\\\\,\\\\mathrm{{eV}}$.\n",
    "    The total number of FD events (counting multi-eye events as multiple events) is {n_events}.'''))"
   ]
  },
  {
   "cell_type": "markdown",
   "metadata": {
    "papermill": {
     "duration": 0.031101,
     "end_time": "2024-03-20T15:45:08.317451",
     "exception": false,
     "start_time": "2024-03-20T15:45:08.286350",
     "status": "completed"
    },
    "tags": []
   },
   "source": [
    "### Energy from the calorimetric FD measurement \n",
    "\n",
    "\n",
    "Get total energy of the event `fd_dtotalEnergy` and its uncertainty `fd_dtotalEnergy`. For multi-eye events, which are those where the `id` is repeated, we calculate the average of total energy weighted with the inverse of the squared uncertainty.\n",
    "\n",
    "**Note**: in [1] the weighted average is made on the calorimetric energy and secondly the invisible energy correction [2] is applied to get the total FD energy and its uncertainty.\n"
   ]
  },
  {
   "cell_type": "code",
   "execution_count": 8,
   "metadata": {
    "execution": {
     "iopub.execute_input": "2024-03-20T15:45:08.385212Z",
     "iopub.status.busy": "2024-03-20T15:45:08.384321Z",
     "iopub.status.idle": "2024-03-20T15:45:08.398734Z",
     "shell.execute_reply": "2024-03-20T15:45:08.399425Z",
     "shell.execute_reply.started": "2024-03-19T15:31:13.285429Z"
    },
    "papermill": {
     "duration": 0.050702,
     "end_time": "2024-03-20T15:45:08.399665",
     "exception": false,
     "start_time": "2024-03-20T15:45:08.348963",
     "status": "completed"
    },
    "tags": []
   },
   "outputs": [],
   "source": [
    "## Calculate weights: 1/uncertainty^2\n",
    "fd_calib['fd_e_weight'] = 1 / np.square(fd_calib.fd_dtotalEnergy)\n",
    "\n",
    "## Calculate E/sigma^2 \n",
    "fd_calib['fd_e_weighted'] = fd_calib.fd_totalEnergy * fd_calib.fd_e_weight\n",
    "\n",
    "## Calculated weighted energy average for multi-eye events\n",
    "## and convert from series to \n",
    "weighted_sum = fd_grouped['fd_e_weighted'].sum()\n",
    "sum_of_weights = fd_grouped['fd_e_weight'].sum()\n",
    "\n",
    "# energy values in EeV\n",
    "fd_e_avg = weighted_sum / sum_of_weights\n",
    "fd_unique['fd_AVG'] = fd_e_avg\n",
    "\n",
    "fd_e_avg_err = 1 / np.sqrt(sum_of_weights)\n",
    "fd_unique['fd_ERR'] = fd_e_avg_err"
   ]
  },
  {
   "cell_type": "code",
   "execution_count": 9,
   "metadata": {
    "execution": {
     "iopub.execute_input": "2024-03-20T15:45:08.470991Z",
     "iopub.status.busy": "2024-03-20T15:45:08.470106Z",
     "iopub.status.idle": "2024-03-20T15:45:08.474217Z",
     "shell.execute_reply": "2024-03-20T15:45:08.473552Z",
     "shell.execute_reply.started": "2024-03-19T15:31:13.299597Z"
    },
    "papermill": {
     "duration": 0.043191,
     "end_time": "2024-03-20T15:45:08.474404",
     "exception": false,
     "start_time": "2024-03-20T15:45:08.431213",
     "status": "completed"
    },
    "scrolled": true,
    "tags": []
   },
   "outputs": [],
   "source": [
    "## shower to shower fluctuations\n",
    "## The contribution from shower-to-shower fluctuations to the uncertainty in E$_{SD}$ can be parameterized as\n",
    "## a relative error in S$_{38}$.\n",
    "\n",
    "def sh_to_sh (lgefd):\n",
    "    \"\"\"parameterization of the shower to shower fluctuations\"\"\"\n",
    "    s2s = [0.127, -0.081, 0.0277]     \n",
    "    return s2s[0] + s2s[1]*(lgefd - 18.5) + s2s[2]*np.square(lgefd - 18.5)\n"
   ]
  },
  {
   "cell_type": "code",
   "execution_count": 10,
   "metadata": {
    "execution": {
     "iopub.execute_input": "2024-03-20T15:45:08.558176Z",
     "iopub.status.busy": "2024-03-20T15:45:08.552098Z",
     "iopub.status.idle": "2024-03-20T15:45:08.564194Z",
     "shell.execute_reply": "2024-03-20T15:45:08.564842Z",
     "shell.execute_reply.started": "2024-03-19T15:31:13.310683Z"
    },
    "papermill": {
     "duration": 0.059913,
     "end_time": "2024-03-20T15:45:08.565068",
     "exception": false,
     "start_time": "2024-03-20T15:45:08.505155",
     "status": "completed"
    },
    "tags": []
   },
   "outputs": [
    {
     "data": {
      "text/latex": [
       "We get 311 unique events with FD total energy above $3~ \\times 10^{18}\\,\\mathrm{eV}$."
      ],
      "text/plain": [
       "<IPython.core.display.Latex object>"
      ]
     },
     "metadata": {},
     "output_type": "display_data"
    }
   ],
   "source": [
    "##  vectors for p.d.f. (E > 2.5 EeV)\n",
    "sd_s38_err = fd_unique.sd_ds1000 * fd_unique.sd_s38 / fd_unique.sd_s1000\n",
    "sd_s38_err_sh = np.sqrt(np.square(sd_s38_err) + np.square(sh_to_sh(np.log10(fd_e_avg*1e18)) * fd_unique.sd_s38))\n",
    "\n",
    "## vectors for the S38 E_FD correlation fit and plot (E > 3 EeV)\n",
    "fd_calib_fit = fd_unique[fd_unique.fd_AVG > 3]\n",
    "\n",
    "# energy values in eV\n",
    "fd_e_fit = fd_calib_fit.fd_AVG * 1e18\n",
    "fd_e_err_fit = fd_calib_fit.fd_ERR * 1e18\n",
    "sd_e_fit = fd_calib_fit.sd_energy * 1e18\n",
    "sd_s38_fit= fd_calib_fit.sd_s38\n",
    "sd_s38_err_fit = fd_calib_fit.sd_ds1000 * fd_calib_fit.sd_s38 / fd_calib_fit.sd_s1000\n",
    "sd_s38_err_sh_fit = np.sqrt( np.square(sd_s38_err_fit) + np.square(sh_to_sh(np.log10(fd_e_fit)) * sd_s38_fit) )\n",
    "\n",
    "display(Latex(f'''We get {len(fd_e_fit)} unique events with FD total energy above $3~ \\\\times 10^{{18}}\\\\,\\\\mathrm{{eV}}$.'''))"
   ]
  },
  {
   "cell_type": "markdown",
   "metadata": {
    "papermill": {
     "duration": 0.031044,
     "end_time": "2024-03-20T15:45:08.628106",
     "exception": false,
     "start_time": "2024-03-20T15:45:08.597062",
     "status": "completed"
    },
    "tags": []
   },
   "source": [
    "### From S(1000) to S$_{38}$\n",
    "\n",
    "The energy estimator for the Surface Detector is the shower size, S(1000), (`sd_s1000`), the signal at 1000 m from the shower impact point in the plane of the shower front. It is measured in units of vertical muon equivalent (VEM), corresponding to the signal released by a muon traversing the SD station vertically. Corrections of order 2% and 1% for the atmospheric and geomagnetic effects (`sd_wcorr`, `sd_gcorr`), respectively, are made to S(1000), see [3], [4]. For a given energy, the value of S(1000) decreases with the zenith angle because of the increasing atmospheric depth crossed by the shower. The corrected shower-size estimator, S$_{38}$, (`sd_s38`), is then derived by applying a zenith and energy dependent factor, parameterized with a third degree polynomial in terms of the variable x = cos$^2 \\theta$ - cos$^2 38^\\circ$. It can be seen as the signal that a shower would have produced had it arrived at 38$^\\circ$, the median angle of the zenith distribution. For more details see [1] and references therein. "
   ]
  },
  {
   "cell_type": "code",
   "execution_count": 11,
   "metadata": {
    "execution": {
     "iopub.execute_input": "2024-03-20T15:45:08.696225Z",
     "iopub.status.busy": "2024-03-20T15:45:08.695422Z",
     "iopub.status.idle": "2024-03-20T15:45:09.929481Z",
     "shell.execute_reply": "2024-03-20T15:45:09.930174Z",
     "shell.execute_reply.started": "2024-03-19T15:31:13.334130Z"
    },
    "papermill": {
     "duration": 1.270414,
     "end_time": "2024-03-20T15:45:09.930529",
     "exception": false,
     "start_time": "2024-03-20T15:45:08.660115",
     "status": "completed"
    },
    "tags": []
   },
   "outputs": [
    {
     "data": {
      "image/png": "[encoded data removed]",
      "text/plain": [
       "<Figure size 1080x360 with 2 Axes>"
      ]
     },
     "metadata": {
      "needs_background": "light"
     },
     "output_type": "display_data"
    }
   ],
   "source": [
    "# CONSTANT CIC CURVE PLOT PRD @ 25 VEM INTENSITY THRESHOLD ( ~ 5 x 10^18 eV)\n",
    "ap25 = [0.924103, -1.54603, -0.914497]\n",
    "\n",
    "def cic (zen, apars):\n",
    "    cc = np.square(np.cos(rad(zen))) - 0.621\n",
    "    return ((apars[2]*cc + apars[1])*cc + apars[0])*cc + 1  # Honer evaluation\n",
    "\n",
    "thetas = np.linspace(0, 60)\n",
    "cic_th = cic(thetas, ap25)\n",
    "\n",
    "\n",
    "## SD zenith\n",
    "szen = fd_calib_fit.sd_theta\n",
    "\n",
    "## S(1000) with weather and geomagnetic corrections / S_38\n",
    "\n",
    "cicfacwg = (fd_calib_fit.sd_s1000 * fd_calib_fit.sd_wcorr * fd_calib_fit.sd_gcorr / sd_s38_fit)\n",
    "\n",
    "plt.figure(figsize=(15, 5)) \n",
    "\n",
    "plt.subplot(121)\n",
    "plt.plot(1 / np.cos(rad(szen)), cicfacwg, '+')\n",
    "plt.plot(1 / np.cos(rad(thetas)), cic_th)\n",
    "\n",
    "plt.xlabel('sec($\\Theta$)')\n",
    "plt.title('attenuation factor')\n",
    "plt.ylabel('attenuation factor')\n",
    "#\n",
    "plt.ylim(0.3, 1.4)\n",
    "#plt.xlim(1, 2)    \n",
    "\n",
    "plt.subplot(122)\n",
    "plt.hist(sd_s38_fit, bins=50)\n",
    "\n",
    "#plt.xlabel('cos$^2$($\\Theta$)')\n",
    "plt.title('S(38) distribution')\n",
    "plt.xlabel('S(38) distribution [VEM]')\n",
    "plt.yscale('log')\n"
   ]
  },
  {
   "cell_type": "markdown",
   "metadata": {
    "papermill": {
     "duration": 0.033035,
     "end_time": "2024-03-20T15:45:09.999233",
     "exception": false,
     "start_time": "2024-03-20T15:45:09.966198",
     "status": "completed"
    },
    "tags": []
   },
   "source": [
    "### Correlation plot \n",
    "\n",
    "The correlation between FD energies and S$_{38}$ is well described by a power law relationship E$_{FD}$ = A S$_{38}\\,^{B}$. The two parameters A and B are fitted to the selected hybrid data. For the fit we use a tailored maximum-likelihood method where the probability density function is given by a bootstrap estimate of the energy distribution of the selected events and where the uncertainties in S$_{38} and FD energy are evaluated on an event-by-event basis. The calibration constants A and B are used to estimate the energy for the bulk of SD events and they define the SD energy scale. For details see [1] and in particular Appendix B."
   ]
  },
  {
   "cell_type": "code",
   "execution_count": 12,
   "metadata": {
    "execution": {
     "iopub.execute_input": "2024-03-20T15:45:10.082873Z",
     "iopub.status.busy": "2024-03-20T15:45:10.081654Z",
     "iopub.status.idle": "2024-03-20T15:45:10.124046Z",
     "shell.execute_reply": "2024-03-20T15:45:10.123002Z",
     "shell.execute_reply.started": "2024-03-19T15:31:14.099507Z"
    },
    "papermill": {
     "duration": 0.091598,
     "end_time": "2024-03-20T15:45:10.124308",
     "exception": false,
     "start_time": "2024-03-20T15:45:10.032710",
     "status": "completed"
    },
    "tags": []
   },
   "outputs": [
    {
     "data": {
      "text/latex": [
       " SIMPLE FIT PARAMETERS: $~$ A = (0.1984 $\\pm$ 0.008) \n",
       "$\\times ~ 10^{18}$ eV, \n",
       "B = 1.012 $\\pm$ 0.009"
      ],
      "text/plain": [
       "<IPython.core.display.Latex object>"
      ]
     },
     "metadata": {},
     "output_type": "display_data"
    }
   ],
   "source": [
    "## SIMPLE FIT WITH POWER LAW FUNCTION\n",
    "# FCN DEFINITION E_SD = A*S_38^B\n",
    "\n",
    "def power(x, a, b):\n",
    "     \"\"\"pw\"\"\"\n",
    "     return (a * pow(x, b))\n",
    "\n",
    "def poweri(x, a, b):\n",
    "     \"\"\"pwi\"\"\"\n",
    "     return (pow(x*a, b))\n",
    "\n",
    "vals, covar = curve_fit(power, sd_s38_fit, fd_e_fit/1e18, p0=(0.1, 1))\n",
    "vals1, covar1 = curve_fit(poweri, fd_e_fit/1e18, sd_s38_fit, p0=(1 / vals[0], 1 / vals[1]))\n",
    "\n",
    "np.set_printoptions(precision=4)\n",
    "\n",
    "display(Latex(f''' SIMPLE FIT PARAMETERS: $~$ A = ({vals[0]:.4f} $\\\\pm$ {np.sqrt(covar[0,0]):.1}) \n",
    "$\\\\times ~ 10^{{18}}$ eV, \n",
    "B = {vals[1]:.3f} $\\\\pm$ {np.sqrt(covar[1,1]):.1}'''))\n"
   ]
  },
  {
   "cell_type": "code",
   "execution_count": 13,
   "metadata": {
    "execution": {
     "iopub.execute_input": "2024-03-20T15:45:10.213320Z",
     "iopub.status.busy": "2024-03-20T15:45:10.212115Z",
     "iopub.status.idle": "2024-03-20T15:45:11.324784Z",
     "shell.execute_reply": "2024-03-20T15:45:11.324160Z",
     "shell.execute_reply.started": "2024-03-19T15:31:14.142223Z"
    },
    "papermill": {
     "duration": 1.162546,
     "end_time": "2024-03-20T15:45:11.324976",
     "exception": false,
     "start_time": "2024-03-20T15:45:10.162430",
     "status": "completed"
    },
    "tags": []
   },
   "outputs": [
    {
     "name": "stdout",
     "output_type": "stream",
     "text": [
      " final_simplex: (array([[0.1854, 1.0313],\n",
      "       [0.1854, 1.0312],\n",
      "       [0.1853, 1.0314]]), array([1631.67, 1631.67, 1631.67]))\n",
      "           fun: 1631.66998539198\n",
      "       message: 'Optimization terminated successfully.'\n",
      "          nfev: 51\n",
      "           nit: 27\n",
      "        status: 0\n",
      "       success: True\n",
      "             x: array([0.1854, 1.0313])\n"
     ]
    },
    {
     "data": {
      "text/latex": [
       " LIKELIHOOD FIT PARAMETERS: $~$ A = 1.8542 \n",
       "$\\times ~ 10^{17}$ eV, \n",
       "B = 1.0313"
      ],
      "text/plain": [
       "<IPython.core.display.Latex object>"
      ]
     },
     "metadata": {},
     "output_type": "display_data"
    }
   ],
   "source": [
    "## LOGLIKELIHOOD FIT IMPLEMENTATION\n",
    "\n",
    "def bootstrap_pdf(fe, fs, fpar):\n",
    "    \"\"\" Probability density function \n",
    "    for the detection of a hybrid shower  \n",
    "    Note: sum runs on data sample E > 2.5\n",
    "    \n",
    "    Args: \n",
    "        FD energy in EeV, s38, fit parameters    \n",
    "    Returns:\n",
    "        probability density function     \n",
    "    \"\"\" \n",
    "    \n",
    "\n",
    "    # create column vectors of energies and signals to evaluate PDFs at\n",
    "    efd = np.asarray(fe)[:, np.newaxis]\n",
    "    s = np.asarray(fs)[:, np.newaxis]\n",
    "\n",
    "\n",
    "    efd_exp = fd_e_avg #in EeV\n",
    "    sigma_efd = fd_e_avg_err #in EeV\n",
    "    \n",
    "    s_exp = pow(efd_exp/fpar[0], 1/fpar[1])   \n",
    "    sh2sh = sh_to_sh(np.log10(efd_exp * 1e18)) # E in eV\n",
    "    sigma_s = np.sqrt( np.square(sd_s38_err) + np.square(sh2sh*s_exp) )\n",
    "\n",
    "    ## sum on i events E_FD > 2.5 EeV\n",
    "    pdf = np.sum(norm.pdf(efd, efd_exp, sigma_efd) * norm.pdf(s, s_exp, sigma_s), axis=1)      \n",
    " \n",
    "    return (pdf / len(fd_e_avg))  \n",
    "    \n",
    "def loglike(parll):\n",
    "    \"\"\"unbinned likelihood function \n",
    "    Note: sum runs on data sample E > 3 EeV\n",
    "    \n",
    "    Args: \n",
    "        fit parameters    \n",
    "    Returns:\n",
    "        negative log-likelihood  \n",
    "    \"\"\"     \n",
    "    log_lik = 0         \n",
    "    ## sum on k events E_FD > 3 EeV \n",
    "    log_lik = - np.log(bootstrap_pdf(fd_e_fit / 1e18, sd_s38_fit, parll)).sum()\n",
    "        \n",
    "    # negative log-likelihood\n",
    "    return log_lik\n",
    "\n",
    "ipars = [vals[0], vals[1]]\n",
    "#ipars = [0.19, 1]\n",
    "\n",
    "result = minimize(loglike, ipars, method='Nelder-Mead')\n",
    "\n",
    "print (result)\n",
    "\n",
    "display(Latex(f''' LIKELIHOOD FIT PARAMETERS: $~$ A = {result.x[0]*10:.4f} \n",
    "$\\\\times ~ 10^{{17}}$ eV, \n",
    "B = {result.x[1]:.4f}'''))\n"
   ]
  },
  {
   "cell_type": "code",
   "execution_count": 14,
   "metadata": {
    "execution": {
     "iopub.execute_input": "2024-03-20T15:45:11.430919Z",
     "iopub.status.busy": "2024-03-20T15:45:11.428675Z",
     "iopub.status.idle": "2024-03-20T15:45:12.310535Z",
     "shell.execute_reply": "2024-03-20T15:45:12.309882Z",
     "shell.execute_reply.started": "2024-03-19T15:31:14.972824Z"
    },
    "papermill": {
     "duration": 0.949228,
     "end_time": "2024-03-20T15:45:12.310699",
     "exception": false,
     "start_time": "2024-03-20T15:45:11.361471",
     "status": "completed"
    },
    "tags": []
   },
   "outputs": [
    {
     "data": {
      "image/png": "[encoded data removed]",
      "text/plain": [
       "<Figure size 720x576 with 1 Axes>"
      ]
     },
     "metadata": {
      "needs_background": "light"
     },
     "output_type": "display_data"
    }
   ],
   "source": [
    "# PLOT DATA WITH POWER LAW FIT\n",
    "\n",
    "x = 10**np.linspace(18.4, 19.8) # equal steps in log space\n",
    "\n",
    "plt.figure(figsize=(10, 8)) \n",
    "\n",
    "plt.errorbar(fd_e_fit, sd_s38_fit, sd_s38_err_sh_fit, fd_e_err_fit, fmt='.k', color='black', ecolor='lightgray')\n",
    "\n",
    "## SIMPLE FIT\n",
    "#fit1 = pow(x / (vals[0] * 1e18), 1 / vals[1])\n",
    "#plt.plot(x,fit1)\n",
    "\n",
    "## LIKELIHOOD FIT\n",
    "fit1 = pow(x / (result.x[0] * 1e18), 1 / result.x[1])\n",
    "plt.plot(x, fit1)\n",
    "\n",
    "plt.title('Correlation Plot')\n",
    "plt.yscale('log')\n",
    "plt.xscale('log')\n",
    "plt.xlabel('$E_{FD}$ [eV]')\n",
    "plt.ylabel('$S_{38}$ [VEM]')\n",
    "plt.xlim(1e18, 1e20)\n",
    "plt.ylim(4, 5e2)\n",
    "None"
   ]
  },
  {
   "cell_type": "markdown",
   "metadata": {
    "papermill": {
     "duration": 0.039569,
     "end_time": "2024-03-20T15:45:12.387164",
     "exception": false,
     "start_time": "2024-03-20T15:45:12.347595",
     "status": "completed"
    },
    "tags": []
   },
   "source": [
    "## Distribution of E$_{SD}$/E$_{FD}$ and SD energy resolution \n",
    "\n",
    "The SD resolution $\\sigma_{SD}$(E)/E can be inferred from data by analyzing in each energy bins the histograms of the ratio E$_{SD}$/E$_{FD}$, following a Gaussian ratio distribution. The resolution is $\\sim$ 20% at 2$ \\cdot$ 10$^{18}$ eV and tends smoothly to $\\sim $ 7% above 2$\\cdot$10$^{19}$ eV. The FD energy resolution $\\sigma_{FD}$(E)/E is ~ 7.4%, see [1]. The overall resolution is obtained by subtracting in quadrature the FD energy resolution from the $\\sigma$ of the fitted Gaussian."
   ]
  },
  {
   "cell_type": "code",
   "execution_count": 15,
   "metadata": {
    "execution": {
     "iopub.execute_input": "2024-03-20T15:45:12.494018Z",
     "iopub.status.busy": "2024-03-20T15:45:12.471769Z",
     "iopub.status.idle": "2024-03-20T15:45:12.965496Z",
     "shell.execute_reply": "2024-03-20T15:45:12.964687Z",
     "shell.execute_reply.started": "2024-03-19T15:31:15.571290Z"
    },
    "papermill": {
     "duration": 0.540693,
     "end_time": "2024-03-20T15:45:12.965734",
     "exception": false,
     "start_time": "2024-03-20T15:45:12.425041",
     "status": "completed"
    },
    "tags": []
   },
   "outputs": [
    {
     "data": {
      "image/png": "[encoded data removed]",
      "text/plain": [
       "<Figure size 1008x648 with 1 Axes>"
      ]
     },
     "metadata": {
      "needs_background": "light"
     },
     "output_type": "display_data"
    },
    {
     "data": {
      "text/latex": [
       "RMS DEVIATION  \n",
       "$\\mu$ = 0.99 $\\pm$ 0.01, $\\sigma$ = 0.15 $\\pm$ 0.004 \n",
       "$~~~$ SD OVERALL RESOLUTION 13 % "
      ],
      "text/plain": [
       "<IPython.core.display.Latex object>"
      ]
     },
     "metadata": {},
     "output_type": "display_data"
    }
   ],
   "source": [
    "# DISTRIBUTION OF E_SD/E_FD + GAUSSIAN FIT\n",
    "\n",
    "##  FULL SAMPLE\n",
    "fig, ax = plt.subplots(1,1)\n",
    "\n",
    "datat = sd_e_fit / fd_e_fit\n",
    "\n",
    "n, binst, patches = ax.hist(datat,15, density=1, alpha=0.5)\n",
    "\n",
    "binw = binst[1] - binst[0]\n",
    "\n",
    "centers = (0.5*(binst[1:] + binst[:-1]))\n",
    "\n",
    "x = np.linspace(min(datat), max(datat), 310)\n",
    "\n",
    "pars, cov = curve_fit(lambda x, mu, sig : norm.pdf(x, mu, sig), centers, n, p0=[1, 0.15])  \n",
    "                                                                                                                                                  \n",
    "ax.set_title('Distribution of E$_{SD}$/E$_{FD}$')\n",
    "\n",
    "##plot the fit function\n",
    "plt.plot(x, norm.pdf(x, *pars))\n",
    "\n",
    "plt.xlabel('$E_{SD}/E_{FD}$')\n",
    "plt.ylabel('probability density')\n",
    "plt.xlim(0.2,1.8)\n",
    "plt.show()\n",
    "\n",
    "reso = np.sqrt(np.square(pars[1]) - np.square(0.074)) * 100\n",
    "\n",
    "display(Latex(f'''RMS DEVIATION  \n",
    "$\\\\mu$ = {pars[0]:.2f} $\\\\pm$ {np.sqrt(cov[0,0]):.2f}, $\\\\sigma$ = {pars[1]:.2f} $\\\\pm$ {np.sqrt(cov[1,1 ]):.3f} \n",
    "$~~~$ SD OVERALL RESOLUTION {reso:.0f} % '''))\n",
    "\n",
    "\n"
   ]
  },
  {
   "cell_type": "markdown",
   "metadata": {
    "papermill": {
     "duration": 0.038437,
     "end_time": "2024-03-20T15:45:13.043010",
     "exception": false,
     "start_time": "2024-03-20T15:45:13.004573",
     "status": "completed"
    },
    "tags": []
   },
   "source": [
    "## Calibration of SD-750 data\n",
    "\n",
    "The same procedure is applied to data collected by the SD-750 array with energy above $10^{16.5}$ eV. Data are identified by the flag `sd750` = 1. The SD shower size estimator S$_{35}$, `sd_s35`, the signal at the optimum distance of 450 m, `sd_s450`, corrected for the atmospheric attenuation, is given in the released data file."
   ]
  },
  {
   "cell_type": "code",
   "execution_count": 16,
   "metadata": {
    "execution": {
     "iopub.execute_input": "2024-03-20T15:45:13.127328Z",
     "iopub.status.busy": "2024-03-20T15:45:13.126472Z",
     "iopub.status.idle": "2024-03-20T15:45:13.757426Z",
     "shell.execute_reply": "2024-03-20T15:45:13.758094Z",
     "shell.execute_reply.started": "2024-03-19T15:31:15.920153Z"
    },
    "papermill": {
     "duration": 0.675196,
     "end_time": "2024-03-20T15:45:13.758310",
     "exception": false,
     "start_time": "2024-03-20T15:45:13.083114",
     "status": "completed"
    },
    "tags": []
   },
   "outputs": [],
   "source": [
    "# load data file\n",
    "hdLE = pd.read_csv(AugerLoad('summary','dataSummarySD750.csv'))"
   ]
  },
  {
   "cell_type": "code",
   "execution_count": 17,
   "metadata": {
    "execution": {
     "iopub.execute_input": "2024-03-20T15:45:13.849248Z",
     "iopub.status.busy": "2024-03-20T15:45:13.848307Z",
     "iopub.status.idle": "2024-03-20T15:45:13.853649Z",
     "shell.execute_reply": "2024-03-20T15:45:13.852842Z",
     "shell.execute_reply.started": "2024-03-19T15:31:16.471625Z"
    },
    "papermill": {
     "duration": 0.051877,
     "end_time": "2024-03-20T15:45:13.853820",
     "exception": false,
     "start_time": "2024-03-20T15:45:13.801943",
     "status": "completed"
    },
    "tags": []
   },
   "outputs": [
    {
     "data": {
      "text/plain": [
       "Index(['id', 'sdid', 'gpstime', 'sd750', 'multiEye', 'sd1500',\n",
       "       'sd_gpsnanotime', 'sd_theta', 'sd_phi', 'sd_energy', 'sd_l', 'sd_b',\n",
       "       'sd_ra', 'sd_dec', 'sd_x', 'sd_dx', 'sd_y', 'sd_dy', 'sd_z',\n",
       "       'sd_easting', 'sd_northing', 'sd_altitude', 'sd_s450', 'sd_ds450',\n",
       "       'sd_s35', 'sd_beta', 'sd_gamma', 'sd_chi2', 'sd_ndf', 'sd_geochi2',\n",
       "       'sd_nbstat', 'fd_id', 'fd_gpsnanotime', 'fd_hdSpectrumEye',\n",
       "       'fd_hdCalibEye', 'fd_hdXmaxEye', 'fd_theta', 'fd_dtheta', 'fd_phi',\n",
       "       'fd_dphi', 'fd_l', 'fd_b', 'fd_ra', 'fd_dec', 'fd_totalEnergy',\n",
       "       'fd_dtotalEnergy', 'fd_calEnergy', 'fd_dcalEnergy', 'fd_xmax',\n",
       "       'fd_dxmax', 'fd_heightXmax', 'fd_distXmax', 'fd_dEdXmax', 'fd_ddEdXmax',\n",
       "       'fd_x', 'fd_dx', 'fd_y', 'fd_dy', 'fd_z', 'fd_easting', 'fd_northing',\n",
       "       'fd_altitude', 'fd_cherenkovFraction', 'fd_minViewAngle', 'fd_uspL',\n",
       "       'fd_duspL', 'fd_uspR', 'fd_duspR', 'fd_hottestStationId',\n",
       "       'fd_distSdpStation', 'fd_distAxisStation', 'sd_gpstime', 'sd_exposure'],\n",
       "      dtype='object')"
      ]
     },
     "execution_count": 17,
     "metadata": {},
     "output_type": "execute_result"
    }
   ],
   "source": [
    "hdLE.columns"
   ]
  },
  {
   "cell_type": "code",
   "execution_count": 18,
   "metadata": {
    "execution": {
     "iopub.execute_input": "2024-03-20T15:45:13.942760Z",
     "iopub.status.busy": "2024-03-20T15:45:13.941968Z",
     "iopub.status.idle": "2024-03-20T15:45:13.957001Z",
     "shell.execute_reply": "2024-03-20T15:45:13.956335Z",
     "shell.execute_reply.started": "2024-03-19T15:31:16.479152Z"
    },
    "papermill": {
     "duration": 0.061281,
     "end_time": "2024-03-20T15:45:13.957183",
     "exception": false,
     "start_time": "2024-03-20T15:45:13.895902",
     "status": "completed"
    },
    "tags": []
   },
   "outputs": [
    {
     "data": {
      "text/latex": [
       "Read 199 calibration events of which 199 unique."
      ],
      "text/plain": [
       "<IPython.core.display.Latex object>"
      ]
     },
     "metadata": {},
     "output_type": "display_data"
    }
   ],
   "source": [
    "\n",
    "fd_calib_LE = hdLE[(hdLE.fd_hdCalibEye == 1)].copy() # copy so we can add columns later\n",
    "\n",
    "fd_grouped_LE = fd_calib_LE.groupby('id')\n",
    "fd_unique_LE = fd_calib_LE.drop_duplicates('id').set_index('id')\n",
    "\n",
    "n_events_LE = len(fd_calib_LE)\n",
    "n_unique_LE = len(fd_unique_LE)\n",
    "\n",
    "display(Latex(f'''Read {n_events_LE} calibration events of which {n_unique_LE} unique.'''))\n",
    "\n"
   ]
  },
  {
   "cell_type": "code",
   "execution_count": 19,
   "metadata": {
    "execution": {
     "iopub.execute_input": "2024-03-20T15:45:14.053158Z",
     "iopub.status.busy": "2024-03-20T15:45:14.048159Z",
     "iopub.status.idle": "2024-03-20T15:45:14.060994Z",
     "shell.execute_reply": "2024-03-20T15:45:14.059213Z",
     "shell.execute_reply.started": "2024-03-19T15:31:16.500765Z"
    },
    "papermill": {
     "duration": 0.064181,
     "end_time": "2024-03-20T15:45:14.061577",
     "exception": false,
     "start_time": "2024-03-20T15:45:13.997396",
     "status": "completed"
    },
    "tags": []
   },
   "outputs": [],
   "source": [
    "## Calculate weights: 1/uncertainty^2\n",
    "fd_calib_LE['fd_e_weight'] = 1 / np.square(fd_calib_LE.fd_dtotalEnergy)\n",
    "\n",
    "## Calculate E/sigma^2 \n",
    "fd_calib_LE['fd_e_weighted'] = fd_calib_LE.fd_totalEnergy * fd_calib_LE.fd_e_weight\n",
    "\n",
    "## Calculated weighted energy average for multi-eye events\n",
    "## and convert from series to \n",
    "weighted_sum_LE = fd_grouped_LE['fd_e_weighted'].sum()\n",
    "sum_of_weights_LE = fd_grouped_LE['fd_e_weight'].sum()\n",
    "\n",
    "# energy values in EeV\n",
    "fd_e_avg_LE = weighted_sum_LE / sum_of_weights_LE\n",
    "fd_unique_LE['fd_AVG'] = fd_e_avg_LE\n",
    "\n",
    "fd_e_avg_err_LE = 1 / np.sqrt(sum_of_weights_LE)\n",
    "fd_unique_LE['fd_ERR'] = fd_e_avg_err_LE\n"
   ]
  },
  {
   "cell_type": "code",
   "execution_count": 20,
   "metadata": {
    "execution": {
     "iopub.execute_input": "2024-03-20T15:45:14.153224Z",
     "iopub.status.busy": "2024-03-20T15:45:14.152199Z",
     "iopub.status.idle": "2024-03-20T15:45:14.156695Z",
     "shell.execute_reply": "2024-03-20T15:45:14.155841Z",
     "shell.execute_reply.started": "2024-03-19T15:31:16.514706Z"
    },
    "papermill": {
     "duration": 0.051453,
     "end_time": "2024-03-20T15:45:14.156911",
     "exception": false,
     "start_time": "2024-03-20T15:45:14.105458",
     "status": "completed"
    },
    "tags": []
   },
   "outputs": [],
   "source": [
    "## shower to shower fluctuations \n",
    "## The contribution from shower-to-shower fluctuations to the uncertainty in E$_{SD}$ can be parameterized as\n",
    "## a relative error in S$_{38}$.\n",
    "\n",
    "def sh_to_sh_LE (lgefd):\n",
    "    \"\"\"parameterization of the shower to shower fluctuations for Low Energy data\"\"\"\n",
    "    s2s = [0.104, -0.021, 0.01]    \n",
    "    return s2s[0] + s2s[1]*(lgefd - 18.0) + s2s[2]*np.square(lgefd - 18.0)\n"
   ]
  },
  {
   "cell_type": "code",
   "execution_count": 21,
   "metadata": {
    "execution": {
     "iopub.execute_input": "2024-03-20T15:45:14.258218Z",
     "iopub.status.busy": "2024-03-20T15:45:14.250054Z",
     "iopub.status.idle": "2024-03-20T15:45:14.264634Z",
     "shell.execute_reply": "2024-03-20T15:45:14.263352Z",
     "shell.execute_reply.started": "2024-03-19T15:31:16.531005Z"
    },
    "papermill": {
     "duration": 0.067787,
     "end_time": "2024-03-20T15:45:14.264841",
     "exception": false,
     "start_time": "2024-03-20T15:45:14.197054",
     "status": "completed"
    },
    "tags": []
   },
   "outputs": [
    {
     "data": {
      "text/latex": [
       "We get 197 unique events with FD total energy above $10^{17}\\,\\mathrm{eV}$."
      ],
      "text/plain": [
       "<IPython.core.display.Latex object>"
      ]
     },
     "metadata": {},
     "output_type": "display_data"
    }
   ],
   "source": [
    "##  vectors for p.d.f. (E > 10^16.5 EeV)\n",
    "\n",
    "sd_s35_err = fd_unique_LE.sd_ds450 * fd_unique_LE.sd_s35 / fd_unique_LE.sd_s450\n",
    "sd_s35_err_sh = np.sqrt(np.square(sd_s35_err) + np.square(sh_to_sh_LE(np.log10(fd_e_avg_LE*1e18)) * fd_unique_LE.sd_s35))\n",
    "\n",
    "\n",
    "\n",
    "## vectors for the S38 E_FD correlation fit and plot (E > 10*17 eV)\n",
    "fd_calib_fit_LE = fd_unique_LE[fd_unique_LE.fd_AVG > 0.1]\n",
    "\n",
    "# energy values in eV\n",
    "fd_e_fit_LE = fd_calib_fit_LE.fd_AVG * 1e18\n",
    "fd_e_err_fit_LE = fd_calib_fit_LE.fd_ERR * 1e18\n",
    "\n",
    "sd_e_fit_LE = fd_calib_fit_LE.sd_energy * 1e18\n",
    "sd_s35_fit = fd_calib_fit_LE.sd_s35\n",
    "sd_s35_err_fit = fd_calib_fit_LE.sd_ds450 * fd_calib_fit_LE.sd_s35 / fd_calib_fit_LE.sd_s450\n",
    "sd_s35_err_sh_fit = np.sqrt( np.square(sd_s35_err_fit) + np.square(sh_to_sh_LE(np.log10(fd_e_fit_LE)) * sd_s35_fit))\n",
    "\n",
    "\n",
    "display(Latex(f'''We get {len(fd_e_fit_LE)} unique events with FD total energy above $10^{{17}}\\\\,\\\\mathrm{{eV}}$.'''))"
   ]
  },
  {
   "cell_type": "markdown",
   "metadata": {
    "papermill": {
     "duration": 0.040151,
     "end_time": "2024-03-20T15:45:14.348047",
     "exception": false,
     "start_time": "2024-03-20T15:45:14.307896",
     "status": "completed"
    },
    "tags": []
   },
   "source": [
    "### Correlation plot for S$_{35}$\n",
    "\n",
    "The correlation between FD energies and S$_{35}$ is well described by a power law relationship E$_{FD}$ = A S$_{35}\\,^{B}$. The parameters A and B are derived by appliying the same method to the selected hybrid data."
   ]
  },
  {
   "cell_type": "code",
   "execution_count": 22,
   "metadata": {
    "execution": {
     "iopub.execute_input": "2024-03-20T15:45:14.452321Z",
     "iopub.status.busy": "2024-03-20T15:45:14.445385Z",
     "iopub.status.idle": "2024-03-20T15:45:14.457961Z",
     "shell.execute_reply": "2024-03-20T15:45:14.456721Z",
     "shell.execute_reply.started": "2024-03-19T15:31:16.555948Z"
    },
    "papermill": {
     "duration": 0.067651,
     "end_time": "2024-03-20T15:45:14.458174",
     "exception": false,
     "start_time": "2024-03-20T15:45:14.390523",
     "status": "completed"
    },
    "tags": []
   },
   "outputs": [
    {
     "data": {
      "text/latex": [
       " SIMPLE FIT PARAMETERS: $~$ A = (0.0154 $\\pm$ 0.0008) \n",
       "$\\times ~ 10^{18}$ eV, \n",
       "B = 0.957 $\\pm$ 0.01"
      ],
      "text/plain": [
       "<IPython.core.display.Latex object>"
      ]
     },
     "metadata": {},
     "output_type": "display_data"
    }
   ],
   "source": [
    "# deriving initial values with a simple powerlaw fit\n",
    "valsLE, covarLE = curve_fit(power, sd_s35_fit, fd_e_fit_LE/1e18, p0=(0.01, 1))\n",
    "\n",
    "\n",
    "np.set_printoptions(precision=4)\n",
    "\n",
    "display(Latex(f''' SIMPLE FIT PARAMETERS: $~$ A = ({valsLE[0]:.4f} $\\\\pm$ {np.sqrt(covarLE[0,0]):.1}) \n",
    "$\\\\times ~ 10^{{18}}$ eV, \n",
    "B = {valsLE[1]:.3f} $\\\\pm$ {np.sqrt(covarLE[1,1]):.1}'''))\n"
   ]
  },
  {
   "cell_type": "code",
   "execution_count": 23,
   "metadata": {
    "execution": {
     "iopub.execute_input": "2024-03-20T15:45:14.553140Z",
     "iopub.status.busy": "2024-03-20T15:45:14.552091Z",
     "iopub.status.idle": "2024-03-20T15:45:15.121401Z",
     "shell.execute_reply": "2024-03-20T15:45:15.120623Z",
     "shell.execute_reply.started": "2024-03-19T15:31:16.577060Z"
    },
    "papermill": {
     "duration": 0.622171,
     "end_time": "2024-03-20T15:45:15.121605",
     "exception": false,
     "start_time": "2024-03-20T15:45:14.499434",
     "status": "completed"
    },
    "tags": []
   },
   "outputs": [
    {
     "name": "stdout",
     "output_type": "stream",
     "text": [
      " final_simplex: (array([[0.0125, 1.0197],\n",
      "       [0.0125, 1.0196],\n",
      "       [0.0125, 1.0196]]), array([456.0658, 456.0658, 456.0658]))\n",
      "           fun: 456.06579565504023\n",
      "       message: 'Optimization terminated successfully.'\n",
      "          nfev: 57\n",
      "           nit: 29\n",
      "        status: 0\n",
      "       success: True\n",
      "             x: array([0.0125, 1.0197])\n"
     ]
    },
    {
     "data": {
      "text/latex": [
       " LIKELIHOOD FIT PARAMETERS: $~$ A = 0.1247 \n",
       "$\\times ~ 10^{17}$ eV, \n",
       "B = 1.0197"
      ],
      "text/plain": [
       "<IPython.core.display.Latex object>"
      ]
     },
     "metadata": {},
     "output_type": "display_data"
    }
   ],
   "source": [
    "## LOGLIKELIHOOD FIT IMPLEMENTATION\n",
    "\n",
    "def bootstrap_pdf_LE(fe, fs, fpar):\n",
    "    \"\"\" Probability density function \n",
    "    for the detection of a hybrid shower  \n",
    "    Note: sum runs on data sample E > 10^16.5 eV\n",
    "    \n",
    "    Args: \n",
    "        FD energy in EeV, s35, fit parameters    \n",
    "    Returns:\n",
    "        probability density function     \n",
    "    \"\"\" \n",
    "    \n",
    "\n",
    "    # create column vectors of energies and signals to evaluate PDFs at\n",
    "    efd = np.asarray(fe)[:, np.newaxis]\n",
    "    s = np.asarray(fs)[:, np.newaxis]\n",
    "\n",
    "\n",
    "    efd_exp = fd_e_avg_LE #in EeV\n",
    "    sigma_efd = fd_e_avg_err_LE #in EeV\n",
    "    \n",
    "    s_exp = pow(efd_exp/fpar[0], 1/fpar[1])   \n",
    "    sh2sh = sh_to_sh_LE(np.log10(efd_exp * 1e18)) # E in eV\n",
    "    sigma_s = np.sqrt( np.square(sd_s35_err) + np.square(sh2sh*s_exp) )\n",
    "\n",
    "    ## sum on i events E_FD > 10^16.5 eV\n",
    "    pdf = np.sum(norm.pdf(efd, efd_exp, sigma_efd) * norm.pdf(s, s_exp, sigma_s), axis=1)      \n",
    " \n",
    "    return (pdf / len(fd_e_avg_LE))  \n",
    "    \n",
    "def loglike(parll):\n",
    "    \"\"\"unbinned likelihood function \n",
    "    Note: sum runs on data sample E > 0.1 EeV\n",
    "    \n",
    "    Args: \n",
    "        fit parameters    \n",
    "    Returns:\n",
    "        negative log-likelihood  \n",
    "    \"\"\"     \n",
    "    log_lik = 0         \n",
    "    ## sum on k events E_FD > 0.1 EeV \n",
    "    log_lik = - np.log(bootstrap_pdf_LE(fd_e_fit_LE / 1e18, sd_s35_fit, parll)).sum()\n",
    "        \n",
    "    # negative log-likelihood\n",
    "    return log_lik\n",
    "\n",
    "iparsLE = [valsLE[0], valsLE[1]]\n",
    "#ipars = [0.19, 1]\n",
    "\n",
    "resultLE = minimize(loglike, iparsLE, method='Nelder-Mead')\n",
    "\n",
    "print (resultLE)\n",
    "\n",
    "display(Latex(f''' LIKELIHOOD FIT PARAMETERS: $~$ A = {resultLE.x[0]*10:.4f} \n",
    "$\\\\times ~ 10^{{17}}$ eV, \n",
    "B = {resultLE.x[1]:.4f}'''))"
   ]
  },
  {
   "cell_type": "code",
   "execution_count": 24,
   "metadata": {
    "execution": {
     "iopub.execute_input": "2024-03-20T15:45:15.214216Z",
     "iopub.status.busy": "2024-03-20T15:45:15.213378Z",
     "iopub.status.idle": "2024-03-20T15:45:16.265445Z",
     "shell.execute_reply": "2024-03-20T15:45:16.264677Z",
     "shell.execute_reply.started": "2024-03-19T15:31:16.979153Z"
    },
    "papermill": {
     "duration": 1.098553,
     "end_time": "2024-03-20T15:45:16.265625",
     "exception": false,
     "start_time": "2024-03-20T15:45:15.167072",
     "status": "completed"
    },
    "tags": []
   },
   "outputs": [
    {
     "data": {
      "image/png": "[encoded data removed]",
      "text/plain": [
       "<Figure size 720x576 with 1 Axes>"
      ]
     },
     "metadata": {
      "needs_background": "light"
     },
     "output_type": "display_data"
    }
   ],
   "source": [
    "# PLOT DATA WITH POWER LAW FIT\n",
    "\n",
    "x = 10**np.linspace(17.0, 19.0) # equal steps in log space\n",
    "\n",
    "plt.figure(figsize=(10, 8)) \n",
    "\n",
    "plt.errorbar(fd_e_fit_LE, sd_s35_fit, sd_s35_err_sh_fit, fd_e_err_fit_LE, fmt='.k', color='black', ecolor='lightgray')\n",
    "\n",
    "## SIMPLE FIT\n",
    "#fit1 = pow(x / (vals[0] * 1e18), 1 / vals[1])\n",
    "#plt.plot(x,fit1)\n",
    "\n",
    "## LIKELIHOOD FIT\n",
    "fit1 = pow(x / (resultLE.x[0] * 1e18), 1 / resultLE.x[1])\n",
    "plt.plot(x, fit1, color='orange')\n",
    "\n",
    "plt.title('Correlation Plot')\n",
    "plt.yscale('log')\n",
    "plt.xscale('log')\n",
    "plt.xlabel('$E_{FD}$ [eV]')\n",
    "plt.ylabel('$S_{35}$ [VEM]')\n",
    "plt.xlim(5e16, 5e19)\n",
    "plt.ylim(3, 1e3)\n",
    "None"
   ]
  }
 ],
 "metadata": {
  "kaggle": {
   "accelerator": "none",
   "dataSources": [
    {
     "datasetId": 4628219,
     "sourceId": 7884588,
     "sourceType": "datasetVersion"
    }
   ],
   "dockerImageVersionId": 30060,
   "isGpuEnabled": false,
   "isInternetEnabled": false,
   "language": "python",
   "sourceType": "notebook"
  },
  "kernelspec": {
   "display_name": "Python 3",
   "language": "python",
   "name": "python3"
  },
  "language_info": {
   "codemirror_mode": {
    "name": "ipython",
    "version": 3
   },
   "file_extension": ".py",
   "mimetype": "text/x-python",
   "name": "python",
   "nbconvert_exporter": "python",
   "pygments_lexer": "ipython3",
   "version": "3.7.9"
  },
  "latex_envs": {
   "LaTeX_envs_menu_present": true,
   "autoclose": false,
   "autocomplete": true,
   "bibliofile": "biblio.bib",
   "cite_by": "apalike",
   "current_citInitial": 1,
   "eqLabelWithNumbers": true,
   "eqNumInitial": 1,
   "hotkeys": {
    "equation": "ctrl-shift-i"
   },
   "labels_anchors": false,
   "latex_user_defs": false,
   "report_style_numbering": false,
   "user_envs_cfg": false
  },
  "papermill": {
   "default_parameters": {},
   "duration": 19.215381,
   "end_time": "2024-03-20T15:45:17.021389",
   "environment_variables": {},
   "exception": null,
   "input_path": "__notebook__.ipynb",
   "output_path": "__notebook__.ipynb",
   "parameters": {},
   "start_time": "2024-03-20T15:44:57.806008",
   "version": "2.2.2"
  },
  "toc": {
   "base_numbering": 1,
   "nav_menu": {},
   "number_sections": true,
   "sideBar": true,
   "skip_h1_title": true,
   "title_cell": "Table of Contents",
   "title_sidebar": "Contents",
   "toc_cell": false,
   "toc_position": {},
   "toc_section_display": true,
   "toc_window_display": false
  },
  "varInspector": {
   "cols": {
    "lenName": 16,
    "lenType": 16,
    "lenVar": 40
   },
   "kernels_config": {
    "python": {
     "delete_cmd_postfix": "",
     "delete_cmd_prefix": "del ",
     "library": "var_list.py",
     "varRefreshCmd": "print(var_dic_list())"
    },
    "r": {
     "delete_cmd_postfix": ") ",
     "delete_cmd_prefix": "rm(",
     "library": "var_list.r",
     "varRefreshCmd": "cat(var_dic_list()) "
    }
   },
   "types_to_exclude": [
    "module",
    "function",
    "builtin_function_or_method",
    "instance",
    "_Feature"
   ],
   "window_display": false
  }
 },
 "nbformat": 4,
 "nbformat_minor": 4
}
